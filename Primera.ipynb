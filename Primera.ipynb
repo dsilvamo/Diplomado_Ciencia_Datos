{
 "cells": [
  {
   "cell_type": "markdown",
   "id": "2ffd4489",
   "metadata": {},
   "source": [
    "# Varianza \n",
    "La varianza es una medida estadística que indica la dispersión o variabilidad de un conjunto de datos con respecto a su media. En términos más simples, la varianza mide qué tan dispersos están los valores individuales alrededor de la media.\n",
    "\n",
    "Matemáticamente, la varianza se calcula mediante la suma de los cuadrados de las diferencias entre cada valor y la media, dividida por el número total de valores en el conjunto de datos. La fórmula de la varianza se expresa de la siguiente manera:\n",
    "$$varianza= \\frac{\\sum_{i=1}^n (x_i - \\bar{x})^2}{n}$$"
   ]
  },
  {
   "cell_type": "markdown",
   "id": "3aeeab8f",
   "metadata": {},
   "source": [
    "![Imagen](https://www.netsolutions.com/insights/wp-content/uploads/2020/07/top-python-frameworks-for-web-development.jpg)"
   ]
  },
  {
   "cell_type": "markdown",
   "id": "131aca03",
   "metadata": {},
   "source": [
    "## David Silva Monroy\n",
    "Estudiente del pregrado de estadistica de la Universidad Nacional de Colombia."
   ]
  },
  {
   "cell_type": "code",
   "execution_count": 4,
   "id": "4fa78422",
   "metadata": {},
   "outputs": [
    {
     "name": "stdout",
     "output_type": "stream",
     "text": [
      "La varianza de la lista es: 51.760000000000005\n"
     ]
    }
   ],
   "source": [
    "def varianza(lista):\n",
    "    promedio = sum(lista) / len(lista) #Promedio \n",
    "    suma_cuadrados = sum((x - promedio) ** 2 for x in lista) #Se realiza la suma de cuadrados \n",
    "    varianza = suma_cuadrados / len(lista)\n",
    "    return varianza\n",
    "\n",
    "# Ejemplo\n",
    "numeros = [1, 20, 1, 4, 10]\n",
    "resultado = varianza(numeros)\n",
    "print(\"La varianza de la lista es:\", resultado)"
   ]
  },
  {
   "cell_type": "code",
   "execution_count": 1,
   "id": "4d2a7b2a",
   "metadata": {},
   "outputs": [
    {
     "data": {
      "text/html": [
       "\n",
       "<a href=\"https://colab.research.google.com/github/dsilvamo/Diplomado_Ciencia_Datos/blob/main/Tareas/Primera\" target=\"_blank\">\n",
       "  <img src=\"https://colab.research.google.com/assets/colab-badge.svg\" alt=\"Open In Colab\"/>\n",
       "</a>\n"
      ],
      "text/plain": [
       "<IPython.core.display.HTML object>"
      ]
     },
     "metadata": {},
     "output_type": "display_data"
    }
   ],
   "source": [
    "from IPython.display import display, HTML\n",
    "\n",
    "colab_button = '''\n",
    "<a href=\"https://colab.research.google.com/github/{user}/{repo}/blob/{branch}/{notebook}\" target=\"_blank\">\n",
    "  <img src=\"https://colab.research.google.com/assets/colab-badge.svg\" alt=\"Open In Colab\"/>\n",
    "</a>\n",
    "'''\n",
    "\n",
    "user = \"dsilvamo\"\n",
    "repo = \"Diplomado_Ciencia_Datos\"\n",
    "branch = \"main\"\n",
    "notebook = \"Tareas/Primera\"\n",
    "\n",
    "display(HTML(colab_button.format(user=user, repo=repo, branch=branch, notebook=notebook)))"
   ]
  }
 ],
 "metadata": {
  "kernelspec": {
   "display_name": "Python 3 (ipykernel)",
   "language": "python",
   "name": "python3"
  },
  "language_info": {
   "codemirror_mode": {
    "name": "ipython",
    "version": 3
   },
   "file_extension": ".py",
   "mimetype": "text/x-python",
   "name": "python",
   "nbconvert_exporter": "python",
   "pygments_lexer": "ipython3",
   "version": "3.10.9"
  }
 },
 "nbformat": 4,
 "nbformat_minor": 5
}
