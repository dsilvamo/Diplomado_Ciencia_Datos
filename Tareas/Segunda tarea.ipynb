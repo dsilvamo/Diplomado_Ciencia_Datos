{
 "cells": [
  {
   "cell_type": "markdown",
   "id": "f8ad93b5",
   "metadata": {},
   "source": [
    "# Funciones"
   ]
  },
  {
   "cell_type": "code",
   "execution_count": 10,
   "id": "502b5363",
   "metadata": {},
   "outputs": [
    {
     "data": {
      "text/plain": [
       "'C:\\\\Users\\\\dsilv\\\\OneDrive\\\\Escritorio\\\\UNAL\\\\IA\\\\Proyecto'"
      ]
     },
     "execution_count": 10,
     "metadata": {},
     "output_type": "execute_result"
    }
   ],
   "source": [
    "import os\n",
    "os.getcwd()\n",
    "os.chdir(\"C:\\\\Users\\\\dsilv\\\\OneDrive\\\\Escritorio\\\\UNAL\\\\IA\\\\Proyecto\")\n",
    "os.getcwd()"
   ]
  },
  {
   "cell_type": "markdown",
   "id": "8d7c5360",
   "metadata": {},
   "source": [
    "### 1. Calcular la edad"
   ]
  },
  {
   "cell_type": "code",
   "execution_count": 1,
   "id": "960f980a",
   "metadata": {},
   "outputs": [
    {
     "name": "stdout",
     "output_type": "stream",
     "text": [
      "La edad es: 23\n"
     ]
    }
   ],
   "source": [
    "from datetime import date\n",
    "#date.fromisoformat('2019-12-04')\n",
    "\n",
    "from datetime import date\n",
    "\n",
    "def calcular_edad(fecha_nacimiento):\n",
    "    fecha_actual = date.today()\n",
    "    edad = fecha_actual.year - fecha_nacimiento.year\n",
    "    if fecha_actual.month < fecha_nacimiento.month or (fecha_actual.month == fecha_nacimiento.month and fecha_actual.day < fecha_nacimiento.day):\n",
    "        edad -= 1\n",
    "    return edad\n",
    "fecha= date(1999, 9, 3)  # fecha de nacimiento\n",
    "edad = calcular_edad(fecha)\n",
    "print(f\"La edad es: {edad}\")\n"
   ]
  },
  {
   "cell_type": "markdown",
   "id": "3e091764",
   "metadata": {},
   "source": [
    "### 2. Escribir centrado"
   ]
  },
  {
   "cell_type": "code",
   "execution_count": 4,
   "id": "9d8ecce2",
   "metadata": {},
   "outputs": [
    {
     "name": "stdout",
     "output_type": "stream",
     "text": [
      "                               David Silva Monroy\n"
     ]
    }
   ],
   "source": [
    "def centrar(texto):\n",
    "    longitud_texto = len(texto)\n",
    "    espacios_antes = (40 - longitud_texto // 2)\n",
    "    print(\" \" * espacios_antes + texto)\n",
    "    \n",
    "\n",
    "\n",
    "centrar(\"David Silva Monroy\")"
   ]
  },
  {
   "cell_type": "markdown",
   "id": "f7ab8723",
   "metadata": {},
   "source": [
    "### 4. Mirar si son múltiplos"
   ]
  },
  {
   "cell_type": "code",
   "execution_count": 9,
   "id": "3be1d7c4",
   "metadata": {
    "scrolled": true
   },
   "outputs": [
    {
     "name": "stdout",
     "output_type": "stream",
     "text": [
      "Los numeros no son multiplos entre si\n",
      "20 es multiplo de 2\n",
      "20 es multiplo de 2\n",
      "Ingrese el primer numero entero hola\n",
      "Ingrese numeros enteros, esta ingresando valores no validos\n",
      "Ingrese el primer numero entero hola\n",
      "Ingrese numeros enteros, esta ingresando valores no validos\n",
      "Ingrese el primer numero entero 20\n",
      "ingrese el segundo numero entero 22\n",
      "Los numeros no son multiplos entre si\n"
     ]
    }
   ],
   "source": [
    "def multiplos(a,b):\n",
    "    if a%b==0:\n",
    "        print(\"{} es multiplo de {}\".format(a,b))\n",
    "    elif b%a==0:\n",
    "        print(\"{} es multiplo de {}\".format(b,a))\n",
    "    else:\n",
    "        print(\"Los numeros no son multiplos entre si\")\n",
    "multiplos(21,2) # Ejemplo 1 \n",
    "multiplos(20,2) # Ejemplo 2\n",
    "multiplos(2,20) # Ejemplo 3\n",
    "def numeros(A):\n",
    "    try:\n",
    "        a=int(input(\"Ingrese el primer numero entero \"))\n",
    "        b=int(input(\"ingrese el segundo numero entero \"))\n",
    "        return [a,b]\n",
    "    except:\n",
    "        print(\"Ingrese números enteros, está ingresando valores no válidos\")\n",
    "        A=numeros(A)\n",
    "        return A\n",
    "A=[1,1]\n",
    "A=numeros(A)\n",
    "multiplos(A[0],A[1])\n"
   ]
  },
  {
   "cell_type": "markdown",
   "id": "117b863b",
   "metadata": {},
   "source": [
    "### 5. Calcular media de la temperatura"
   ]
  },
  {
   "cell_type": "code",
   "execution_count": 28,
   "id": "6b3ce79f",
   "metadata": {},
   "outputs": [
    {
     "name": "stdout",
     "output_type": "stream",
     "text": [
      "La media de la temperatura es  11.75\n"
     ]
    }
   ],
   "source": [
    "import random \n",
    "T=list(range(1,25))\n",
    "random.seed(10)\n",
    "for i in range(24):\n",
    "    T[i]=int(random.gauss(T[i],2))\n",
    "def media(T):  #AQUI SE DEFINE LA FUNCIÓN\n",
    "    return sum(T)/len(T)\n",
    "mT=media(T)\n",
    "print(\"La media de la temperatura es \",mT)\n"
   ]
  },
  {
   "cell_type": "markdown",
   "id": "62cc4e80",
   "metadata": {},
   "source": [
    "### 6. Calcular max y min"
   ]
  },
  {
   "cell_type": "code",
   "execution_count": 58,
   "id": "f550a67b",
   "metadata": {},
   "outputs": [
    {
     "name": "stdout",
     "output_type": "stream",
     "text": [
      "El minimo es 0.363 y el máximo es 18.507\n"
     ]
    }
   ],
   "source": [
    "import random \n",
    "random.seed(10)\n",
    "lista = [round(random.normalvariate(10, 3),3) for i in range(50)]\n",
    "def calcularMaxMin(L):\n",
    "    L.sort()\n",
    "    return [L[0],L[-1]]\n",
    "\n",
    "Mm=calcularMaxMin(lista)\n",
    "print(\"El minimo es\",Mm[0],\"y el máximo es\",Mm[1])\n"
   ]
  },
  {
   "cell_type": "markdown",
   "id": "619b93fc",
   "metadata": {},
   "source": [
    "### 7. Calcular area y perimetro de una circunferencia"
   ]
  },
  {
   "cell_type": "code",
   "execution_count": 60,
   "id": "2bb7f4ff",
   "metadata": {},
   "outputs": [
    {
     "name": "stdout",
     "output_type": "stream",
     "text": [
      "Ingrese el radio de la circunferencia 6\n",
      "6.0\n",
      "El area del circulo es 113.097 \n",
      "El perimetro del circulo es 37.699\n",
      "EJEMPLO\n",
      "El area del circulo es 78.54 \n",
      "El perimetro del circulo es 31.416\n"
     ]
    }
   ],
   "source": [
    "import math\n",
    "#Radio del círculo\n",
    "def radio(r):\n",
    "    try:\n",
    "        r=float(input(\"Ingrese el radio de la circunferencia \"))\n",
    "        if r<=0:\n",
    "            print(\"El radio debe ser pósitivo\")\n",
    "            r=radio(r)\n",
    "        return r\n",
    "    except:\n",
    "        print(\"Ingrese números positivos, está ingresando valores no válidos\")\n",
    "        r=radio(r)\n",
    "        return r\n",
    "r=1\n",
    "r=radio(r)\n",
    "print(r)\n",
    "\n",
    "\"\"\"\n",
    "Se define la función para radio y perímetro\n",
    "\"\"\"\n",
    "def areaPerimetro(r):\n",
    "    return [math.pi*r*r,math.pi*2*r]\n",
    "rp=areaPerimetro(r)\n",
    "print(\"El area del circulo es\",round(rp[0],3),\"\\nEl perimetro del circulo es\",round(rp[1],3))\n",
    "\n",
    "\"\"\"\n",
    "EJEMPLO\n",
    "\"\"\"\n",
    "print(\"EJEMPLO\")\n",
    "ej=areaPerimetro(5)\n",
    "print(\"El area del circulo es\",round(ej[0],3),\"\\nEl perimetro del circulo es\",round(ej[1],3))"
   ]
  },
  {
   "cell_type": "markdown",
   "id": "c526aad7",
   "metadata": {},
   "source": [
    "### 8. Función Login"
   ]
  },
  {
   "cell_type": "code",
   "execution_count": 4,
   "id": "3fd808df",
   "metadata": {},
   "outputs": [
    {
     "name": "stdout",
     "output_type": "stream",
     "text": [
      "Ingrese el usuario h\n",
      "Ingrese la contraseña: h\n",
      "ingrese el usuario y contraseña correctos, recuerde que tiene 5 intentos, lleva 1\n",
      "Ingrese el usuario h\n",
      "Ingrese la contraseña: h\n",
      "ingrese el usuario y contraseña correctos, recuerde que tiene 5 intentos, lleva 2\n",
      "Ingrese el usuario h\n",
      "Ingrese la contraseña: h\n",
      "ingrese el usuario y contraseña correctos, recuerde que tiene 5 intentos, lleva 3\n",
      "Ingrese el usuario h\n",
      "Ingrese la contraseña: h\n",
      "ingrese el usuario y contraseña correctos, recuerde que tiene 5 intentos, lleva 4\n",
      "Ingrese el usuario h\n",
      "Ingrese la contraseña: h\n",
      "Ha excedido el número de intentos\n"
     ]
    },
    {
     "data": {
      "text/plain": [
       "False"
      ]
     },
     "execution_count": 4,
     "metadata": {},
     "output_type": "execute_result"
    }
   ],
   "source": [
    "def Login(intentos):\n",
    "    usuario=str(input(\"Ingrese el usuario \"))\n",
    "    contraseña=str(input(\"Ingrese la contraseña: \"))\n",
    "    if usuario==\"usuario1\" and contraseña==\"asdasd\":\n",
    "        print(\"Ha ingresado\")\n",
    "        print(\"Numero de intentos\",intentos)\n",
    "        return True\n",
    "    else:\n",
    "        if intentos>4:\n",
    "            print(\"Ha excedido el número de intentos\")\n",
    "            return False           \n",
    "        print(\"ingrese el usuario y contraseña correctos, recuerde que tiene 5 intentos, lleva\", intentos)\n",
    "        intentos+=1\n",
    "        Login(intentos)\n",
    "        return False\n",
    "intentos=1\n",
    "Login(intentos)"
   ]
  },
  {
   "cell_type": "markdown",
   "id": "df83540c",
   "metadata": {},
   "source": [
    "### 9. Factorial de un número"
   ]
  },
  {
   "cell_type": "code",
   "execution_count": 9,
   "id": "5b0cdfd9",
   "metadata": {},
   "outputs": [
    {
     "name": "stdout",
     "output_type": "stream",
     "text": [
      "El factorial de 3 es 6\n",
      "El factorial de 5 es 120\n"
     ]
    }
   ],
   "source": [
    "def factorial(a:int):\n",
    "    facto=a\n",
    "    if a<0:\n",
    "        print(\"Ingrese un número pósitivo\")\n",
    "        return None\n",
    "    elif a==0:\n",
    "        return 1\n",
    "    else:\n",
    "        facto=a*factorial(a-1)\n",
    "        return facto\n",
    "ej_1=factorial(3)\n",
    "print(\"El factorial de 3 es\",ej_1)\n",
    "ej_2=factorial(5)\n",
    "print(\"El factorial de 5 es\",ej_2)\n",
    "\n",
    "    "
   ]
  },
  {
   "cell_type": "markdown",
   "id": "7f5d8823",
   "metadata": {},
   "source": [
    "### 10. Cantidad de segundos y horas"
   ]
  },
  {
   "cell_type": "code",
   "execution_count": 7,
   "id": "c1b1e258",
   "metadata": {},
   "outputs": [
    {
     "name": "stdout",
     "output_type": "stream",
     "text": [
      "12640\n"
     ]
    }
   ],
   "source": [
    "def segundos(horas, minutos, segundos):\n",
    "    total_segundos = horas * 3600 + minutos * 60 + segundos\n",
    "    return total_segundos\n",
    "seg=segundos(3,30,40)\n",
    "print(seg)"
   ]
  },
  {
   "cell_type": "code",
   "execution_count": 8,
   "id": "a9dfe8d1",
   "metadata": {},
   "outputs": [
    {
     "name": "stdout",
     "output_type": "stream",
     "text": [
      "(3, 30, 40)\n"
     ]
    }
   ],
   "source": [
    "def tiempo(segundos):\n",
    "    horas = segundos // 3600\n",
    "    segundos %= 3600\n",
    "    minutos = segundos // 60\n",
    "    segundos %= 60\n",
    "    return horas, minutos, segundos\n",
    "time=tiempo(12640)\n",
    "print(time)"
   ]
  },
  {
   "cell_type": "markdown",
   "id": "97c3319c",
   "metadata": {},
   "source": [
    "### 11. Invertir una tupla"
   ]
  },
  {
   "cell_type": "code",
   "execution_count": 13,
   "id": "6943a887",
   "metadata": {},
   "outputs": [
    {
     "name": "stdout",
     "output_type": "stream",
     "text": [
      "(5, 4, 3, 2, 1) <class 'tuple'>\n",
      "('d', 'c', 'b', 'a') <class 'tuple'>\n"
     ]
    }
   ],
   "source": [
    "def invertirTupla(T):\n",
    "    return tuple(reversed(T))\n",
    "#EJEMPLOS\n",
    "A=(1,2,3,4,5)\n",
    "B=invertirTupla(A)\n",
    "print(B,type(B))\n",
    "C=(\"a\",\"b\",\"c\",\"d\")\n",
    "D=invertirTupla(C)\n",
    "print(D,type(D))"
   ]
  },
  {
   "cell_type": "markdown",
   "id": "d982b7c8",
   "metadata": {},
   "source": [
    "### 12. Media geométrica"
   ]
  },
  {
   "cell_type": "code",
   "execution_count": 9,
   "id": "1d99002b",
   "metadata": {},
   "outputs": [
    {
     "name": "stdout",
     "output_type": "stream",
     "text": [
      "12.10199095846498\n"
     ]
    }
   ],
   "source": [
    "import functools\n",
    "\n",
    "def MGeom(lista):\n",
    "    prod = functools.reduce(lambda x, y: x * y, lista)\n",
    "    media_geometrica = prod ** (1 / len(lista))  #ahi se saca la raiz\n",
    "    return media_geometrica\n",
    "resultado=MGeom((10,11,15,13))\n",
    "print(resultado)"
   ]
  }
 ],
 "metadata": {
  "kernelspec": {
   "display_name": "Python 3 (ipykernel)",
   "language": "python",
   "name": "python3"
  },
  "language_info": {
   "codemirror_mode": {
    "name": "ipython",
    "version": 3
   },
   "file_extension": ".py",
   "mimetype": "text/x-python",
   "name": "python",
   "nbconvert_exporter": "python",
   "pygments_lexer": "ipython3",
   "version": "3.10.9"
  }
 },
 "nbformat": 4,
 "nbformat_minor": 5
}
